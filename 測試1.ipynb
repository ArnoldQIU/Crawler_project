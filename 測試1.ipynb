{
 "cells": [
  {
   "cell_type": "code",
   "execution_count": 2,
   "metadata": {
    "collapsed": true
   },
   "outputs": [],
   "source": [
    "import requests\n",
    "from bs4 import BeautifulSoup"
   ]
  },
  {
   "cell_type": "code",
   "execution_count": 3,
   "metadata": {
    "collapsed": false
   },
   "outputs": [
    {
     "name": "stdout",
     "output_type": "stream",
     "text": [
      "[<div class=\"bbs-screen bbs-content\" id=\"main-content\"><div class=\"article-metaline\"><span class=\"article-meta-tag\">作者</span><span class=\"article-meta-value\">vul3nn (盛)</span></div><div class=\"article-metaline-right\"><span class=\"article-meta-tag\">看板</span><span class=\"article-meta-value\">Food</span></div><div class=\"article-metaline\"><span class=\"article-meta-tag\">標題</span><span class=\"article-meta-value\">[食記] 新竹東區-玉龍肉圓(原竹蓮肉圓)</span></div><div class=\"article-metaline\"><span class=\"article-meta-tag\">時間</span><span class=\"article-meta-value\">Tue Mar  1 16:15:16 2016</span></div>\n",
      "店名: 玉龍肉圓 (原竹蓮肉圓)\n",
      "食用時間: 104/12\n",
      "地址:  新竹市南大路464號（近新竹國小）\n",
      "電話:  0910-960-776\n",
      "營業時間:  08:00-20:00\n",
      "價格:0-50\n",
      "=============================================================\n",
      "好讀網誌版\n",
      "<a href=\"http://leosheng.tw/wunsylung/\" rel=\"nofollow\" target=\"_blank\">http://leosheng.tw/wunsylung/</a>\n",
      "\n",
      "南大路上的玉龍肉圓，靠近新竹國小，招牌上大大夫妻的照片，頗為醒目\n",
      "看過去是老牌的小吃店，想說新竹老牌小吃店應該比隨意吃好吧，吃看看\n",
      "玉龍肉圓算是竹蓮肉圓的接班店，第二代\n",
      "竹蓮肉圓的原址由哥哥接手，弟弟則來到南大路上開這家玉龍\n",
      "台灣各地不少小吃都是這樣，這難免是分家的關係\n",
      "至於兩家有何差異真的是要吃看看才知道，\"港款丟某剛師傅\"道理就在這\n",
      "新竹的肉圓常見比較多的是紅糟肉圓，應該都是用炸的\n",
      "紅糟肉圓的味道跟中部的肉圓又不甚相同，不管皮跟餡都是\n",
      "跟台北的話嗎… 台北我實在不常吃肉圓，改天再來尋覓一下\n",
      "菜單 MENU\n",
      "一粒20，兼賣羹湯還有骨仔肉湯\n",
      "肉圓個頭不算大，然後醬汁不多，中南部的醬汁多不少!\n",
      "醬汁不多的好處就是，不會泡在醬汁裡，有的醬汁會比較油膩，不愛\n",
      "內餡是很扎實的肉塊，咬勁很夠，然後醃料的味道重，而且放入不少青蔥\n",
      "味道又更重一點，比較沒有其他像是筍乾阿之類的配料，就是很扎實又味道重的內餡皮的\n",
      "話就是Q，軟Q那種，沒有微微酥脆的外皮，但也不會說到麻糬那麼軟\n",
      "比較類似芋圓那種咬感，還不錯\n",
      "魚粳湯–30圓\n",
      "蘿蔔湯配上軟軟的粳，沒說多特別\n",
      "愛吃肉的可以直接選骨仔肉湯，肉有的好咬有的要嚼一下\n",
      "口感當然是比魚粳有趣多拉\n",
      "總結\n",
      "竹蓮肉圓兒子的店\n",
      "傳統的Q皮紅糟肉圓\n",
      "價錢還行\n",
      "\n",
      "--\n",
      "<span class=\"f2\">※ 發信站: 批踢踢實業坊(ptt.cc), 來自: 118.160.101.18\n",
      "</span><span class=\"f2\">※ 文章網址: <a href=\"https://www.ptt.cc/bbs/Food/M.1456820119.A.ACB.html\" rel=\"nofollow\" target=\"_blank\">https://www.ptt.cc/bbs/Food/M.1456820119.A.ACB.html</a>\n",
      "</span><span class=\"f2\">※ </span><span class=\"f2 hl\">vul3nn</span><span class=\"f2\">:轉錄至看板 Hsinchu</span>                                       03/01 16:16\n",
      "<div class=\"push\"><span class=\"hl push-tag\">推 </span><span class=\"f3 hl push-userid\">antennaboy</span><span class=\"f3 push-content\">: 借問市場內那家也是哥哥嗎?</span><span class=\"push-ipdatetime\"> 03/02 23:19\n",
      "</span></div></div>]\n"
     ]
    },
    {
     "name": "stderr",
     "output_type": "stream",
     "text": [
      "C:\\Users\\user1\\Anaconda3\\lib\\site-packages\\requests\\packages\\urllib3\\connectionpool.py:768: InsecureRequestWarning: Unverified HTTPS request is being made. Adding certificate verification is strongly advised. See: https://urllib3.readthedocs.org/en/latest/security.html\n",
      "  InsecureRequestWarning)\n"
     ]
    }
   ],
   "source": [
    "res=requests.get('https://www.ptt.cc/bbs/Food/M.1456820119.A.ACB.html',verify=False)\n",
    "soup=BeautifulSoup(res.text)\n",
    "practice=soup.select('#main-content')\n",
    "print (practice)"
   ]
  },
  {
   "cell_type": "code",
   "execution_count": 65,
   "metadata": {
    "collapsed": false
   },
   "outputs": [
    {
     "name": "stdout",
     "output_type": "stream",
     "text": [
      "[食記] 台北/多麼Cafe+/早午餐、插座、不限時\n",
      "uni929 (呱呱)\n",
      "Sat Mar  5 13:10:07 2016\n",
      "\n",
      "\n",
      "   餐廳名稱：多麼Cafe'+\n",
      "   消費時間：2016年/3月\n",
      "   地址：台北市大安區安和路217巷16號\n",
      "   電話：02-2733-0009\n",
      "   營業時間：週一 ～ 週四：11:30 - 23:00\n",
      "             週五：11:30 - 1:00\n",
      "             週六：10:30 - 1:00\n",
      "             週日：10:30 - 23:00\n",
      "   每人平均價位：450\n",
      "   用餐時間：無限制\n",
      "   插頭：每個位置都有，免費\n",
      "   官網：\n"
     ]
    },
    {
     "name": "stderr",
     "output_type": "stream",
     "text": [
      "C:\\Users\\user1\\Anaconda3\\lib\\site-packages\\requests\\packages\\urllib3\\connectionpool.py:768: InsecureRequestWarning: Unverified HTTPS request is being made. Adding certificate verification is strongly advised. See: https://urllib3.readthedocs.org/en/latest/security.html\n",
      "  InsecureRequestWarning)\n"
     ]
    }
   ],
   "source": [
    "res=requests.get('https://www.ptt.cc/bbs/Food/M.1457154609.A.2A3.html',verify=False)\n",
    "soup=BeautifulSoup(res.text)\n",
    "title=soup.select(\".article-meta-value\")[2].text   # id='#' and class='.'\n",
    "article=soup.select(\".article-meta-value\")[0].text\n",
    "times=soup.select('.article-meta-value')[3].text\n",
    "content=soup.select('#main-content')[0].contents[4]\n",
    "\n",
    "print (title)\n",
    "print (article)\n",
    "print(times)\n",
    "print(content)"
   ]
  }
 ],
 "metadata": {
  "kernelspec": {
   "display_name": "Python 3",
   "language": "python",
   "name": "python3"
  },
  "language_info": {
   "codemirror_mode": {
    "name": "ipython",
    "version": 3
   },
   "file_extension": ".py",
   "mimetype": "text/x-python",
   "name": "python",
   "nbconvert_exporter": "python",
   "pygments_lexer": "ipython3",
   "version": "3.4.3"
  }
 },
 "nbformat": 4,
 "nbformat_minor": 0
}
