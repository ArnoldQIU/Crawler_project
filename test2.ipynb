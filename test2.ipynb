{
 "cells": [
  {
   "cell_type": "code",
   "execution_count": 1,
   "metadata": {
    "collapsed": false
   },
   "outputs": [],
   "source": [
    "#\n",
    "import requests\n",
    "from bs4 import BeautifulSoup\n",
    "\n",
    "\n",
    "def page(num):       #要幾頁\n",
    "    for i in range(num):\n",
    "        res=requests.get(\"https://www.ptt.cc/bbs/Food/index\" +str(5205-i) + \".html\" ,verify=False)\n",
    "        soup=BeautifulSoup(res.text)\n",
    "        select(soup)\n",
    "\n",
    "def select(soup):        #選取要的資料\n",
    "    for content in soup.select('.r-ent'):\n",
    "        authors=content.select('.author')[0].text #作者\n",
    "    \n",
    "        times=content.select('.date')[0].text     #發表時間\n",
    "    \n",
    "        title=content.select('.title')[0].text    #標題\n",
    "        \n",
    "        #print (authors,times,title)\n",
    "\n",
    "\n",
    "            \n",
    "            \n",
    "            \n",
    "            \n",
    "            \n",
    "            \n",
    "            \n",
    "            \n",
    "            \n",
    "#page(10).find('台北')"
   ]
  },
  {
   "cell_type": "code",
   "execution_count": null,
   "metadata": {
    "collapsed": true
   },
   "outputs": [],
   "source": []
  }
 ],
 "metadata": {
  "kernelspec": {
   "display_name": "Python 3",
   "language": "python",
   "name": "python3"
  },
  "language_info": {
   "codemirror_mode": {
    "name": "ipython",
    "version": 3
   },
   "file_extension": ".py",
   "mimetype": "text/x-python",
   "name": "python",
   "nbconvert_exporter": "python",
   "pygments_lexer": "ipython3",
   "version": "3.4.3"
  }
 },
 "nbformat": 4,
 "nbformat_minor": 0
}
