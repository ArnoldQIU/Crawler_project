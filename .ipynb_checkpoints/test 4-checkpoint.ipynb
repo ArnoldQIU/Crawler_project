{
 "cells": [
  {
   "cell_type": "code",
   "execution_count": 221,
   "metadata": {
    "collapsed": false
   },
   "outputs": [
    {
     "name": "stdout",
     "output_type": "stream",
     "text": [
      "<img border=\"0\" oncontextmenu=\"return false\" onload=\"if(this.width&gt;screen.width) {this.resized=true; this.width=screen.width*0.96;}\" src=\"http://web4.cartoonmad.com/c86eo736r62/1152/681/001.jpg\"/>\n"
     ]
    }
   ],
   "source": [
    "# -*- coding: utf8 -*-\n",
    "import requests\n",
    "from bs4 import BeautifulSoup\n",
    "res=requests.get(\"http://www.cartoomad.com/comic/115206812019001.html\")\n",
    "soup=BeautifulSoup(res.text)\n",
    "good=soup.select(\"a\")[20]\n",
    "better=str(good.select(\"img\")[0])\n",
    "print(better)\n",
    "\n"
   ]
  },
  {
   "cell_type": "code",
   "execution_count": 234,
   "metadata": {
    "collapsed": false
   },
   "outputs": [
    {
     "name": "stdout",
     "output_type": "stream",
     "text": [
      "src=\"http://web4.cartoonmad.com/c86eo736r62/1152/681/001.jpg\"/>\n"
     ]
    }
   ],
   "source": [
    "best=better.strip()\n",
    "print (best.split(\" \")[7])"
   ]
  },
  {
   "cell_type": "code",
   "execution_count": null,
   "metadata": {
    "collapsed": true
   },
   "outputs": [],
   "source": []
  }
 ],
 "metadata": {
  "kernelspec": {
   "display_name": "Python 3",
   "language": "python",
   "name": "python3"
  },
  "language_info": {
   "codemirror_mode": {
    "name": "ipython",
    "version": 3
   },
   "file_extension": ".py",
   "mimetype": "text/x-python",
   "name": "python",
   "nbconvert_exporter": "python",
   "pygments_lexer": "ipython3",
   "version": "3.4.3"
  }
 },
 "nbformat": 4,
 "nbformat_minor": 0
}
