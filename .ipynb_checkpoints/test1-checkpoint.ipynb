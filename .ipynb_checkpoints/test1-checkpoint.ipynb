{
 "cells": [
  {
   "cell_type": "code",
   "execution_count": 2,
   "metadata": {
    "collapsed": true
   },
   "outputs": [],
   "source": [
    "import requests\n",
    "from bs4 import BeautifulSoup"
   ]
  },
  {
   "cell_type": "code",
   "execution_count": 3,
   "metadata": {
    "collapsed": false
   },
   "outputs": [
    {
     "ename": "NameError",
     "evalue": "name 'requests' is not defined",
     "output_type": "error",
     "traceback": [
      "\u001b[1;31m---------------------------------------------------------------------------\u001b[0m",
      "\u001b[1;31mNameError\u001b[0m                                 Traceback (most recent call last)",
      "\u001b[1;32m<ipython-input-3-46c2d379096d>\u001b[0m in \u001b[0;36m<module>\u001b[1;34m()\u001b[0m\n\u001b[1;32m----> 1\u001b[1;33m \u001b[0mres\u001b[0m\u001b[1;33m=\u001b[0m\u001b[0mrequests\u001b[0m\u001b[1;33m.\u001b[0m\u001b[0mget\u001b[0m\u001b[1;33m(\u001b[0m\u001b[1;34m'https://www.ptt.cc/bbs/Food/M.1456820119.A.ACB.html'\u001b[0m\u001b[1;33m,\u001b[0m\u001b[0mverify\u001b[0m\u001b[1;33m=\u001b[0m\u001b[1;32mFalse\u001b[0m\u001b[1;33m)\u001b[0m\u001b[1;33m\u001b[0m\u001b[0m\n\u001b[0m\u001b[0;32m      2\u001b[0m \u001b[0msoup\u001b[0m\u001b[1;33m=\u001b[0m\u001b[0mBeautifulSoup\u001b[0m\u001b[1;33m(\u001b[0m\u001b[0mres\u001b[0m\u001b[1;33m.\u001b[0m\u001b[0mtext\u001b[0m\u001b[1;33m)\u001b[0m\u001b[1;33m\u001b[0m\u001b[0m\n\u001b[0;32m      3\u001b[0m \u001b[0mpractice\u001b[0m\u001b[1;33m=\u001b[0m\u001b[0msoup\u001b[0m\u001b[1;33m.\u001b[0m\u001b[0mselect\u001b[0m\u001b[1;33m(\u001b[0m\u001b[1;34m'#main-content'\u001b[0m\u001b[1;33m)\u001b[0m\u001b[1;33m\u001b[0m\u001b[0m\n\u001b[0;32m      4\u001b[0m \u001b[0mprint\u001b[0m \u001b[1;33m(\u001b[0m\u001b[0mpractice\u001b[0m\u001b[1;33m)\u001b[0m\u001b[1;33m\u001b[0m\u001b[0m\n",
      "\u001b[1;31mNameError\u001b[0m: name 'requests' is not defined"
     ]
    }
   ],
   "source": [
    "#res=requests.get('https://www.ptt.cc/bbs/Food/M.1456820119.A.ACB.html',verify=False)\n",
    "soup=BeautifulSoup(res.text)\n",
    "practice=soup.select('#main-content')\n",
    "print (practice)"
   ]
  },
  {
   "cell_type": "code",
   "execution_count": 4,
   "metadata": {
    "collapsed": false
   },
   "outputs": [
    {
     "ename": "NameError",
     "evalue": "name 'BeautifulSoup' is not defined",
     "output_type": "error",
     "traceback": [
      "\u001b[1;31m---------------------------------------------------------------------------\u001b[0m",
      "\u001b[1;31mNameError\u001b[0m                                 Traceback (most recent call last)",
      "\u001b[1;32m<ipython-input-4-9259ec8dd7cf>\u001b[0m in \u001b[0;36m<module>\u001b[1;34m()\u001b[0m\n\u001b[0;32m      1\u001b[0m \u001b[1;31m#res=requests.get('https://www.ptt.cc/bbs/Food/M.1457154609.A.2A3.html',verify=False)\u001b[0m\u001b[1;33m\u001b[0m\u001b[1;33m\u001b[0m\u001b[0m\n\u001b[1;32m----> 2\u001b[1;33m \u001b[0msoup\u001b[0m\u001b[1;33m=\u001b[0m\u001b[0mBeautifulSoup\u001b[0m\u001b[1;33m(\u001b[0m\u001b[0mres\u001b[0m\u001b[1;33m.\u001b[0m\u001b[0mtext\u001b[0m\u001b[1;33m)\u001b[0m\u001b[1;33m\u001b[0m\u001b[0m\n\u001b[0m\u001b[0;32m      3\u001b[0m \u001b[0mtitle\u001b[0m\u001b[1;33m=\u001b[0m\u001b[0msoup\u001b[0m\u001b[1;33m.\u001b[0m\u001b[0mselect\u001b[0m\u001b[1;33m(\u001b[0m\u001b[1;34m\".article-meta-value\"\u001b[0m\u001b[1;33m)\u001b[0m\u001b[1;33m[\u001b[0m\u001b[1;36m2\u001b[0m\u001b[1;33m]\u001b[0m\u001b[1;33m.\u001b[0m\u001b[0mtext\u001b[0m   \u001b[1;31m# id='#' and class='.'\u001b[0m\u001b[1;33m\u001b[0m\u001b[0m\n\u001b[0;32m      4\u001b[0m \u001b[0marticle\u001b[0m\u001b[1;33m=\u001b[0m\u001b[0msoup\u001b[0m\u001b[1;33m.\u001b[0m\u001b[0mselect\u001b[0m\u001b[1;33m(\u001b[0m\u001b[1;34m\".article-meta-value\"\u001b[0m\u001b[1;33m)\u001b[0m\u001b[1;33m[\u001b[0m\u001b[1;36m0\u001b[0m\u001b[1;33m]\u001b[0m\u001b[1;33m.\u001b[0m\u001b[0mtext\u001b[0m\u001b[1;33m\u001b[0m\u001b[0m\n\u001b[0;32m      5\u001b[0m \u001b[0mtimes\u001b[0m\u001b[1;33m=\u001b[0m\u001b[0msoup\u001b[0m\u001b[1;33m.\u001b[0m\u001b[0mselect\u001b[0m\u001b[1;33m(\u001b[0m\u001b[1;34m'.article-meta-value'\u001b[0m\u001b[1;33m)\u001b[0m\u001b[1;33m[\u001b[0m\u001b[1;36m3\u001b[0m\u001b[1;33m]\u001b[0m\u001b[1;33m.\u001b[0m\u001b[0mtext\u001b[0m\u001b[1;33m\u001b[0m\u001b[0m\n",
      "\u001b[1;31mNameError\u001b[0m: name 'BeautifulSoup' is not defined"
     ]
    }
   ],
   "source": [
    "#res=requests.get('https://www.ptt.cc/bbs/Food/M.1457154609.A.2A3.html',verify=False)\n",
    "soup=BeautifulSoup(res.text)\n",
    "title=soup.select(\".article-meta-value\")[2].text   # id='#' and class='.'\n",
    "article=soup.select(\".article-meta-value\")[0].text\n",
    "times=soup.select('.article-meta-value')[3].text\n",
    "content=soup.select('#main-content')[0].contents[4]\n",
    "\n",
    "print (title)\n",
    "print (article)\n",
    "print(times)\n",
    "print(content)"
   ]
  },
  {
   "cell_type": "code",
   "execution_count": null,
   "metadata": {
    "collapsed": true
   },
   "outputs": [],
   "source": [
    "import requests\n",
    "from bs4 import BeautifulSoup\n",
    "def change_page():\n",
    "    for i "
   ]
  },
  {
   "cell_type": "code",
   "execution_count": 5,
   "metadata": {
    "collapsed": false
   },
   "outputs": [
    {
     "ename": "FeatureNotFound",
     "evalue": "Couldn't find a tree builder with the features you requested: html5lib. Do you need to install a parser library?",
     "output_type": "error",
     "traceback": [
      "\u001b[1;31m---------------------------------------------------------------------------\u001b[0m",
      "\u001b[1;31mFeatureNotFound\u001b[0m                           Traceback (most recent call last)",
      "\u001b[1;32m<ipython-input-5-3f3cb9f3e65f>\u001b[0m in \u001b[0;36m<module>\u001b[1;34m()\u001b[0m\n\u001b[0;32m     99\u001b[0m \u001b[0mindexCounter\u001b[0m \u001b[1;33m=\u001b[0m \u001b[1;36m1\u001b[0m\u001b[1;33m\u001b[0m\u001b[0m\n\u001b[0;32m    100\u001b[0m \u001b[0mboardCounter\u001b[0m \u001b[1;33m=\u001b[0m \u001b[1;36m0\u001b[0m\u001b[1;33m\u001b[0m\u001b[0m\n\u001b[1;32m--> 101\u001b[1;33m \u001b[0mcrawl_in_page\u001b[0m\u001b[1;33m(\u001b[0m\u001b[0mboard\u001b[0m\u001b[1;33m[\u001b[0m\u001b[0mboardCounter\u001b[0m\u001b[1;33m]\u001b[0m\u001b[1;33m,\u001b[0m \u001b[0mindexCounter\u001b[0m\u001b[1;33m)\u001b[0m\u001b[1;33m\u001b[0m\u001b[0m\n\u001b[0m\u001b[0;32m    102\u001b[0m \u001b[1;33m\u001b[0m\u001b[0m\n\u001b[0;32m    103\u001b[0m \u001b[1;31m#while True:\u001b[0m\u001b[1;33m\u001b[0m\u001b[1;33m\u001b[0m\u001b[0m\n",
      "\u001b[1;32m<ipython-input-5-3f3cb9f3e65f>\u001b[0m in \u001b[0;36mcrawl_in_page\u001b[1;34m(board, indexNum)\u001b[0m\n\u001b[0;32m     53\u001b[0m \u001b[1;33m\u001b[0m\u001b[0m\n\u001b[0;32m     54\u001b[0m \u001b[1;32mdef\u001b[0m \u001b[0mcrawl_in_page\u001b[0m\u001b[1;33m(\u001b[0m\u001b[0mboard\u001b[0m\u001b[1;33m,\u001b[0m \u001b[0mindexNum\u001b[0m\u001b[1;33m)\u001b[0m\u001b[1;33m:\u001b[0m\u001b[1;33m\u001b[0m\u001b[0m\n\u001b[1;32m---> 55\u001b[1;33m     \u001b[1;32mfor\u001b[0m \u001b[0mlink\u001b[0m \u001b[1;32min\u001b[0m \u001b[0mlink_list\u001b[0m\u001b[1;33m(\u001b[0m\u001b[0mboard\u001b[0m\u001b[1;33m,\u001b[0m \u001b[0mindexNum\u001b[0m\u001b[1;33m)\u001b[0m\u001b[1;33m:\u001b[0m\u001b[1;33m\u001b[0m\u001b[0m\n\u001b[0m\u001b[0;32m     56\u001b[0m         \u001b[1;32mtry\u001b[0m\u001b[1;33m:\u001b[0m\u001b[1;33m\u001b[0m\u001b[0m\n\u001b[0;32m     57\u001b[0m             \u001b[0mcon_res\u001b[0m \u001b[1;33m=\u001b[0m \u001b[0mrequests\u001b[0m\u001b[1;33m.\u001b[0m\u001b[0mget\u001b[0m\u001b[1;33m(\u001b[0m\u001b[0mlink\u001b[0m\u001b[1;33m)\u001b[0m\u001b[1;33m\u001b[0m\u001b[0m\n",
      "\u001b[1;32m<ipython-input-5-3f3cb9f3e65f>\u001b[0m in \u001b[0;36mlink_list\u001b[1;34m(board, indexNum)\u001b[0m\n\u001b[0;32m      9\u001b[0m \u001b[1;32mdef\u001b[0m \u001b[0mlink_list\u001b[0m\u001b[1;33m(\u001b[0m\u001b[0mboard\u001b[0m\u001b[1;33m,\u001b[0m \u001b[0mindexNum\u001b[0m\u001b[1;33m)\u001b[0m\u001b[1;33m:\u001b[0m\u001b[1;33m\u001b[0m\u001b[0m\n\u001b[0;32m     10\u001b[0m     \u001b[0mlink_list\u001b[0m \u001b[1;33m=\u001b[0m \u001b[1;33m[\u001b[0m\u001b[1;33m]\u001b[0m\u001b[1;33m\u001b[0m\u001b[0m\n\u001b[1;32m---> 11\u001b[1;33m     \u001b[1;32mfor\u001b[0m \u001b[0mlink\u001b[0m \u001b[1;32min\u001b[0m \u001b[0mhttpReq\u001b[0m\u001b[1;33m(\u001b[0m\u001b[0mboard\u001b[0m\u001b[1;33m,\u001b[0m \u001b[0mindexNum\u001b[0m\u001b[1;33m)\u001b[0m\u001b[1;33m.\u001b[0m\u001b[0mselect\u001b[0m\u001b[1;33m(\u001b[0m\u001b[1;34m'.r-ent'\u001b[0m\u001b[1;33m)\u001b[0m\u001b[1;33m:\u001b[0m\u001b[1;33m\u001b[0m\u001b[0m\n\u001b[0m\u001b[0;32m     12\u001b[0m         \u001b[0mlink_list\u001b[0m\u001b[1;33m.\u001b[0m\u001b[0mappend\u001b[0m\u001b[1;33m(\u001b[0m\u001b[1;34m'https://www.ptt.cc'\u001b[0m \u001b[1;33m+\u001b[0m \u001b[0mlink\u001b[0m\u001b[1;33m.\u001b[0m\u001b[0mselect\u001b[0m\u001b[1;33m(\u001b[0m\u001b[1;34m'a'\u001b[0m\u001b[1;33m)\u001b[0m\u001b[1;33m[\u001b[0m\u001b[1;36m0\u001b[0m\u001b[1;33m]\u001b[0m\u001b[1;33m[\u001b[0m\u001b[1;34m'href'\u001b[0m\u001b[1;33m]\u001b[0m\u001b[1;33m)\u001b[0m\u001b[1;33m\u001b[0m\u001b[0m\n\u001b[0;32m     13\u001b[0m     \u001b[1;32mreturn\u001b[0m \u001b[0mlink_list\u001b[0m\u001b[1;33m\u001b[0m\u001b[0m\n",
      "\u001b[1;32m<ipython-input-5-3f3cb9f3e65f>\u001b[0m in \u001b[0;36mhttpReq\u001b[1;34m(board, indexNum)\u001b[0m\n\u001b[0;32m      5\u001b[0m     \u001b[0mindex_url\u001b[0m \u001b[1;33m=\u001b[0m \u001b[1;34m'https://www.ptt.cc/bbs/'\u001b[0m \u001b[1;33m+\u001b[0m \u001b[0mboard\u001b[0m \u001b[1;33m+\u001b[0m \u001b[1;34m'/index'\u001b[0m \u001b[1;33m+\u001b[0m \u001b[0mstr\u001b[0m\u001b[1;33m(\u001b[0m\u001b[0mindexNum\u001b[0m\u001b[1;33m)\u001b[0m \u001b[1;33m+\u001b[0m \u001b[1;34m'.html'\u001b[0m\u001b[1;33m\u001b[0m\u001b[0m\n\u001b[0;32m      6\u001b[0m     \u001b[0mindex_res\u001b[0m \u001b[1;33m=\u001b[0m \u001b[0mrequests\u001b[0m\u001b[1;33m.\u001b[0m\u001b[0mget\u001b[0m\u001b[1;33m(\u001b[0m\u001b[0mindex_url\u001b[0m\u001b[1;33m)\u001b[0m\u001b[1;33m\u001b[0m\u001b[0m\n\u001b[1;32m----> 7\u001b[1;33m     \u001b[1;32mreturn\u001b[0m \u001b[0mBeautifulSoup\u001b[0m\u001b[1;33m(\u001b[0m\u001b[0mindex_res\u001b[0m\u001b[1;33m.\u001b[0m\u001b[0mtext\u001b[0m\u001b[1;33m,\u001b[0m \u001b[1;34m'html5lib'\u001b[0m\u001b[1;33m)\u001b[0m\u001b[1;33m\u001b[0m\u001b[0m\n\u001b[0m\u001b[0;32m      8\u001b[0m \u001b[1;33m\u001b[0m\u001b[0m\n\u001b[0;32m      9\u001b[0m \u001b[1;32mdef\u001b[0m \u001b[0mlink_list\u001b[0m\u001b[1;33m(\u001b[0m\u001b[0mboard\u001b[0m\u001b[1;33m,\u001b[0m \u001b[0mindexNum\u001b[0m\u001b[1;33m)\u001b[0m\u001b[1;33m:\u001b[0m\u001b[1;33m\u001b[0m\u001b[0m\n",
      "\u001b[1;32mC:\\Users\\user1\\Anaconda3\\lib\\site-packages\\bs4\\__init__.py\u001b[0m in \u001b[0;36m__init__\u001b[1;34m(self, markup, features, builder, parse_only, from_encoding, **kwargs)\u001b[0m\n\u001b[0;32m    150\u001b[0m                     \u001b[1;34m\"Couldn't find a tree builder with the features you \"\u001b[0m\u001b[1;33m\u001b[0m\u001b[0m\n\u001b[0;32m    151\u001b[0m                     \u001b[1;34m\"requested: %s. Do you need to install a parser library?\"\u001b[0m\u001b[1;33m\u001b[0m\u001b[0m\n\u001b[1;32m--> 152\u001b[1;33m                     % \",\".join(features))\n\u001b[0m\u001b[0;32m    153\u001b[0m             \u001b[0mbuilder\u001b[0m \u001b[1;33m=\u001b[0m \u001b[0mbuilder_class\u001b[0m\u001b[1;33m(\u001b[0m\u001b[1;33m)\u001b[0m\u001b[1;33m\u001b[0m\u001b[0m\n\u001b[0;32m    154\u001b[0m         \u001b[0mself\u001b[0m\u001b[1;33m.\u001b[0m\u001b[0mbuilder\u001b[0m \u001b[1;33m=\u001b[0m \u001b[0mbuilder\u001b[0m\u001b[1;33m\u001b[0m\u001b[0m\n",
      "\u001b[1;31mFeatureNotFound\u001b[0m: Couldn't find a tree builder with the features you requested: html5lib. Do you need to install a parser library?"
     ]
    }
   ],
   "source": [
    "import requests, datetime, time, json\n",
    "from bs4 import BeautifulSoup\n",
    "\n",
    "def httpReq(board, indexNum):\n",
    "    index_url = 'https://www.ptt.cc/bbs/' + board + '/index' + str(indexNum) + '.html'\n",
    "    index_res = requests.get(index_url)\n",
    "    return BeautifulSoup(index_res.text, 'html5lib')\n",
    "\n",
    "def link_list(board, indexNum):\n",
    "    link_list = []\n",
    "    for link in httpReq(board, indexNum).select('.r-ent'):\n",
    "        link_list.append('https://www.ptt.cc' + link.select('a')[0]['href'])\n",
    "    return link_list\n",
    "\n",
    "def grap_push_info(soup):\n",
    "    pushInfo_list = []\n",
    "    for i in soup.select('.push'):\n",
    "        if len(i.select('.push-ipdatetime')[0].string.strip()) > 11:\n",
    "            continue\n",
    "        pushInfo_list.append(\n",
    "                              # date (e.g. '02/18')\n",
    "                             [i.select('.push-ipdatetime')[0].string.strip(), \n",
    "                              # userid (e.g. 'comdan66')\n",
    "                              i.select('.push-userid')[0].string.strip(), \n",
    "                              # push content\n",
    "                              i.select('.push-content')[0].string[1:].strip()]\n",
    "        )\n",
    "    return pushInfo_list\n",
    "\n",
    "def grap_orig_post(soup):\n",
    "    return (\n",
    "        # date (e.g. 'Mon Aug 29 14:32:25 2005')\n",
    "        soup.select('.article-meta-value')[3].text.strip() +'``!@'+\n",
    "        # title\n",
    "        soup.select('.article-meta-value')[2].text.strip() +'``!@'+\n",
    "        # userid (e.g. 'skyboy')\n",
    "        soup.select('.article-meta-value')[0].text.split('(')[0].strip() +'``!@'+                   \n",
    "        # content\n",
    "        soup.select('#main-content')[0].contents[4].strip()\n",
    "    ).split('``!@')\n",
    "\n",
    "def get_year(soup, push_m, push_d):\n",
    "    m_dict = {'jan':1, 'feb':2, 'mar':3, 'apr':4, 'may':5, 'jun':6, \n",
    "              'jul':7, 'aug':8, 'sep':9, 'oct':10, 'nov':11, 'dec':12}\n",
    "    \n",
    "    post_y = int(soup.select('.article-meta-value')[3].text.strip()[-4:])\n",
    "    post_m = m_dict[soup.select('.article-meta-value')[3].text.strip()[4:7].lower()]\n",
    "    \n",
    "    if push_m < post_m:\n",
    "        return str(post_y+1)\n",
    "    else:\n",
    "        return str(post_y)\n",
    "\n",
    "def crawl_in_page(board, indexNum):\n",
    "    for link in link_list(board, indexNum):\n",
    "        try:\n",
    "            con_res = requests.get(link)\n",
    "            con_soup = BeautifulSoup(con_res.text, 'html5lib')\n",
    "        except:\n",
    "            counter = 1\n",
    "            while counter <= 3:\n",
    "                print('Retry after 2 sec...')\n",
    "                time.sleep(2)\n",
    "                con_res = requests.get(link)\n",
    "                con_soup = BeautifulSoup(con_res.text, 'html5lib')\n",
    "                counter += 1\n",
    "        try:\n",
    "            # crawl main content\n",
    "            ptt_data.append({\n",
    "                'date'   : grap_orig_post(con_soup)[0],\n",
    "                'title'  : grap_orig_post(con_soup)[1],\n",
    "                'userid' : grap_orig_post(con_soup)[2],\n",
    "                'content': grap_orig_post(con_soup)[3],\n",
    "                'url'    : con_res.url,\n",
    "                'is_orig_post': True\n",
    "            })\n",
    "\n",
    "            # crawl push content\n",
    "            for i in grap_push_info(con_soup):\n",
    "\n",
    "                ptt_data.append({\n",
    "                    'date'   : get_year(con_soup, int(i[0][0:2]), int(i[0][3:5])) + '/' + i[0],\n",
    "                    'title'  : grap_orig_post(con_soup)[1],\n",
    "                    'userid' : i[1],\n",
    "                    'content': i[2],\n",
    "                    'url'    : con_res.url,\n",
    "                    'is_orig_post': False\n",
    "                })\n",
    "\n",
    "            with open('ptt_data.json', 'w') as outfile:\n",
    "                json.dump(ptt_data, outfile)\n",
    "            \n",
    "        except:\n",
    "            continue\n",
    "            \n",
    "\n",
    "ptt_data = []\n",
    "board = ['Yunlin', 'Lifeismoney']\n",
    "indexCounter = 1\n",
    "boardCounter = 0\n",
    "crawl_in_page(board[boardCounter], indexCounter)\n",
    "\n",
    "#while True:\n",
    "#    try:\n",
    "#        crawl_in_page(board[boardCounter], indexCounter)\n",
    "#    except:\n",
    "#        crawl_in_page(board[boardCounter+1], indexCounter)\n",
    "#        break"
   ]
  },
  {
   "cell_type": "code",
   "execution_count": 5,
   "metadata": {
    "collapsed": false
   },
   "outputs": [
    {
     "ename": "IndentationError",
     "evalue": "unexpected indent (<ipython-input-5-aa43973fcf82>, line 7)",
     "output_type": "error",
     "traceback": [
      "\u001b[1;36m  File \u001b[1;32m\"<ipython-input-5-aa43973fcf82>\"\u001b[1;36m, line \u001b[1;32m7\u001b[0m\n\u001b[1;33m    retry_counter = 1\u001b[0m\n\u001b[1;37m    ^\u001b[0m\n\u001b[1;31mIndentationError\u001b[0m\u001b[1;31m:\u001b[0m unexpected indent\n"
     ]
    }
   ],
   "source": [
    "import requests\n",
    "import datetime\n",
    "import time\n",
    "from bs4 import BeautifulSoup\n",
    "\n",
    "#def get_indexPage(board, indexNum):\n",
    "    retry_counter = 1\n",
    "    while retry_counter <= 3:\n",
    "        index_url = 'https://www.ptt.cc/bbs/' + board + '/index' + str(indexNum) + '.html'\n",
    "        try:\n",
    "            return requests.get(index_url, verify=False)\n",
    "        except KeyboardInterrupt:\n",
    "            print('Interupted by operator.')\n",
    "            break\n",
    "        except:\n",
    "            print('Retry after 2 sec ...')\n",
    "            time.sleep(2)\n",
    "            return requests.get(index_url, verify=False)\n",
    "        retry_counter += 1\n",
    "    return '1'\n",
    "\n",
    "def crawl_data(record):\n",
    "    try:\n",
    "        return (record.select('.author')[0].text.strip() + '``' +\n",
    "                record.select('a')[0].text.strip() + '``' +\n",
    "                'https://www.ptt.cc' + record.select('a')[0]['href'])\n",
    "    except IndexError:\n",
    "        return (record.select('.title')[0].text.strip() + '``'\n",
    "                + 'None')\n",
    "\n",
    "def crawl_timestamp(record):\n",
    "    ts_url = 'https://www.ptt.cc' + record.select('a')[0]['href']\n",
    "    try:\n",
    "        ts_res = requests.get(ts_url, verify=False)\n",
    "    except IndexError:\n",
    "        print('Retry after 2 sec ...')\n",
    "        time.sleep(2)\n",
    "        ts_res = requests.get(ts_url, verify=False)\n",
    "    ts_soup = BeautifulSoup(ts_res.text, 'lxml')\n",
    "    return ts_soup.select('.article-meta-value')[3].text[4:].replace('：',':').strip()\n",
    "\n",
    "\n",
    "\n",
    "indexNum = 1\n",
    "while indexNum <= 1:\n",
    "#while True:\n",
    "    try:\n",
    "        board = 'Yunlin'\n",
    "        soup = BeautifulSoup(get_indexPage(board, indexNum).text, 'lxml')\n",
    "    except:\n",
    "        continue\n",
    "\n",
    "    for record in soup.select('.r-ent'):\n",
    "        try:\n",
    "            crawl_timestamp(record)\n",
    "        except:\n",
    "            continue\n",
    "        print((crawl_timestamp(record) +'``'+\n",
    "               crawl_data(record) + '``' +\n",
    "               board + '``' +\n",
    "               str(indexNum)\n",
    "              ).split('``'))\n",
    "\n",
    "    indexNum += 1\n",
    "\n",
    "print('Nothing More...')\n",
    "\n",
    "#datetime.strptime(crawl_timestamp(record), '%b %d %H:%M:%S %Y')"
   ]
  },
  {
   "cell_type": "code",
   "execution_count": 8,
   "metadata": {
    "collapsed": false
   },
   "outputs": [
    {
     "ename": "TypeError",
     "evalue": "bad operand type for unary -: '_Helper'",
     "output_type": "error",
     "traceback": [
      "\u001b[1;31m---------------------------------------------------------------------------\u001b[0m",
      "\u001b[1;31mTypeError\u001b[0m                                 Traceback (most recent call last)",
      "\u001b[1;32m<ipython-input-8-e1e59970dbed>\u001b[0m in \u001b[0;36m<module>\u001b[1;34m()\u001b[0m\n\u001b[1;32m----> 1\u001b[1;33m \u001b[0mBeautifulSoup\u001b[0m \u001b[1;33m-\u001b[0m\u001b[1;33m-\u001b[0m\u001b[0mhelp\u001b[0m\u001b[1;33m\u001b[0m\u001b[0m\n\u001b[0m",
      "\u001b[1;31mTypeError\u001b[0m: bad operand type for unary -: '_Helper'"
     ]
    }
   ],
   "source": []
  }
 ],
 "metadata": {
  "kernelspec": {
   "display_name": "Python 3",
   "language": "python",
   "name": "python3"
  },
  "language_info": {
   "codemirror_mode": {
    "name": "ipython",
    "version": 3
   },
   "file_extension": ".py",
   "mimetype": "text/x-python",
   "name": "python",
   "nbconvert_exporter": "python",
   "pygments_lexer": "ipython3",
   "version": "3.4.3"
  }
 },
 "nbformat": 4,
 "nbformat_minor": 0
}
